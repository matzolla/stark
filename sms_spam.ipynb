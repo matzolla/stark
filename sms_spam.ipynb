{
  "nbformat": 4,
  "nbformat_minor": 0,
  "metadata": {
    "colab": {
      "name": "sms_spam.ipynb",
      "provenance": [],
      "toc_visible": true
    },
    "kernelspec": {
      "name": "python3",
      "display_name": "Python 3"
    }
  },
  "cells": [
    {
      "cell_type": "code",
      "metadata": {
        "id": "DuwUdRWnj3jw",
        "colab_type": "code",
        "colab": {}
      },
      "source": [
        "#spam detection assignment 1:\n",
        "#Name : NKEN ALLASSAN\n",
        "#Data: 21/08/2020\n",
        "#this model try to demonstrate how to classify spam sms from non-spam ones"
      ],
      "execution_count": 25,
      "outputs": []
    },
    {
      "cell_type": "code",
      "metadata": {
        "id": "GZ4BVjwG9IAQ",
        "colab_type": "code",
        "colab": {
          "base_uri": "https://localhost:8080/",
          "height": 54
        },
        "outputId": "2a2c9088-bed2-4d3c-975b-844ee8389351"
      },
      "source": [
        "from google.colab import drive\n",
        "drive.mount('/content/drive')"
      ],
      "execution_count": 26,
      "outputs": [
        {
          "output_type": "stream",
          "text": [
            "Drive already mounted at /content/drive; to attempt to forcibly remount, call drive.mount(\"/content/drive\", force_remount=True).\n"
          ],
          "name": "stdout"
        }
      ]
    },
    {
      "cell_type": "code",
      "metadata": {
        "id": "KLWxNYWW7ZzZ",
        "colab_type": "code",
        "colab": {}
      },
      "source": [
        "#importing useful libraries\n",
        "import numpy as np\n",
        "import pandas as pd\n",
        "import matplotlib.pyplot as plt\n",
        "from sklearn import feature_extraction,metrics,svm ,naive_bayes,model_selection"
      ],
      "execution_count": 35,
      "outputs": []
    },
    {
      "cell_type": "code",
      "metadata": {
        "id": "FPvi5dA-8GhA",
        "colab_type": "code",
        "colab": {}
      },
      "source": [
        "#know lets load our data:\n",
        "#Nb: got an error while loading data on encoding with \"utf-8\", so i searched and use \"latin-1\"\n",
        "df= pd.read_csv(\"/content/drive/My Drive/datasets_483_982_spam.csv\",encoding='latin-1')"
      ],
      "execution_count": 28,
      "outputs": []
    },
    {
      "cell_type": "code",
      "metadata": {
        "id": "cZ7r_Dc3-JxH",
        "colab_type": "code",
        "colab": {
          "base_uri": "https://localhost:8080/",
          "height": 34
        },
        "outputId": "6c098b26-16ff-43d7-a2cd-a32d74d69d18"
      },
      "source": [
        "#df.head()\n",
        "df.shape"
      ],
      "execution_count": 29,
      "outputs": [
        {
          "output_type": "execute_result",
          "data": {
            "text/plain": [
              "(5572, 5)"
            ]
          },
          "metadata": {
            "tags": []
          },
          "execution_count": 29
        }
      ]
    },
    {
      "cell_type": "code",
      "metadata": {
        "id": "-8kFpMb7_ACP",
        "colab_type": "code",
        "colab": {
          "base_uri": "https://localhost:8080/",
          "height": 299
        },
        "outputId": "82be1471-4d7c-4e42-b994-e03a23d8d3b2"
      },
      "source": [
        "#try to get if the class is balance or not using a bar plot let check it out\n",
        "counts=pd.value_counts(df['v1'],sort=True)\n",
        "counts.plot(kind='bar',color=[\"blue\",\"red\"])\n",
        "plt.title('ham and spam plot')\n",
        "plt.show()"
      ],
      "execution_count": 30,
      "outputs": [
        {
          "output_type": "display_data",
          "data": {
            "image/png": "[encoded data removed]",
            "text/plain": [
              "<Figure size 432x288 with 1 Axes>"
            ]
          },
          "metadata": {
            "tags": [],
            "needs_background": "light"
          }
        }
      ]
    },
    {
      "cell_type": "code",
      "metadata": {
        "id": "plHsGS1BDWzy",
        "colab_type": "code",
        "colab": {}
      },
      "source": [
        "#from the result below we can deduce an imbalance classification problem\n",
        "#Also in text classification we get more insights by eliminating stop words which can be consider as \"noisy\" to \n",
        "#the model"
      ],
      "execution_count": 31,
      "outputs": []
    },
    {
      "cell_type": "code",
      "metadata": {
        "id": "RQq04xpvECwI",
        "colab_type": "code",
        "colab": {
          "base_uri": "https://localhost:8080/",
          "height": 34
        },
        "outputId": "9a2c47ec-844f-493b-87b5-b54e7086dddf"
      },
      "source": [
        "extract=feature_extraction.text.TfidfVectorizer(stop_words='english')\n",
        "x=extract.fit_transform(df[\"v2\"])\n",
        "x.shape"
      ],
      "execution_count": 32,
      "outputs": [
        {
          "output_type": "execute_result",
          "data": {
            "text/plain": [
              "(5572, 8404)"
            ]
          },
          "metadata": {
            "tags": []
          },
          "execution_count": 32
        }
      ]
    },
    {
      "cell_type": "markdown",
      "metadata": {
        "id": "rXRpqPUYGvRr",
        "colab_type": "text"
      },
      "source": [
        "***now it's time to train our model***\n",
        "1. we shall first use a svm model and improve later\n",
        "2. also we shall see improvement with a balance class"
      ]
    },
    {
      "cell_type": "code",
      "metadata": {
        "id": "t9CJQrxwHOW0",
        "colab_type": "code",
        "colab": {
          "base_uri": "https://localhost:8080/",
          "height": 204
        },
        "outputId": "808fe70b-f07d-4149-d499-91efd420bf47"
      },
      "source": [
        "#we start by doing a binary encoder\n",
        "df['v1']=df['v1'].map({'spam':1,'ham':0})\n",
        "df.head()"
      ],
      "execution_count": 33,
      "outputs": [
        {
          "output_type": "execute_result",
          "data": {
            "text/html": [
              "<div>\n",
              "<style scoped>\n",
              "    .dataframe tbody tr th:only-of-type {\n",
              "        vertical-align: middle;\n",
              "    }\n",
              "\n",
              "    .dataframe tbody tr th {\n",
              "        vertical-align: top;\n",
              "    }\n",
              "\n",
              "    .dataframe thead th {\n",
              "        text-align: right;\n",
              "    }\n",
              "</style>\n",
              "<table border=\"1\" class=\"dataframe\">\n",
              "  <thead>\n",
              "    <tr style=\"text-align: right;\">\n",
              "      <th></th>\n",
              "      <th>v1</th>\n",
              "      <th>v2</th>\n",
              "      <th>Unnamed: 2</th>\n",
              "      <th>Unnamed: 3</th>\n",
              "      <th>Unnamed: 4</th>\n",
              "    </tr>\n",
              "  </thead>\n",
              "  <tbody>\n",
              "    <tr>\n",
              "      <th>0</th>\n",
              "      <td>0</td>\n",
              "      <td>Go until jurong point, crazy.. Available only ...</td>\n",
              "      <td>NaN</td>\n",
              "      <td>NaN</td>\n",
              "      <td>NaN</td>\n",
              "    </tr>\n",
              "    <tr>\n",
              "      <th>1</th>\n",
              "      <td>0</td>\n",
              "      <td>Ok lar... Joking wif u oni...</td>\n",
              "      <td>NaN</td>\n",
              "      <td>NaN</td>\n",
              "      <td>NaN</td>\n",
              "    </tr>\n",
              "    <tr>\n",
              "      <th>2</th>\n",
              "      <td>1</td>\n",
              "      <td>Free entry in 2 a wkly comp to win FA Cup fina...</td>\n",
              "      <td>NaN</td>\n",
              "      <td>NaN</td>\n",
              "      <td>NaN</td>\n",
              "    </tr>\n",
              "    <tr>\n",
              "      <th>3</th>\n",
              "      <td>0</td>\n",
              "      <td>U dun say so early hor... U c already then say...</td>\n",
              "      <td>NaN</td>\n",
              "      <td>NaN</td>\n",
              "      <td>NaN</td>\n",
              "    </tr>\n",
              "    <tr>\n",
              "      <th>4</th>\n",
              "      <td>0</td>\n",
              "      <td>Nah I don't think he goes to usf, he lives aro...</td>\n",
              "      <td>NaN</td>\n",
              "      <td>NaN</td>\n",
              "      <td>NaN</td>\n",
              "    </tr>\n",
              "  </tbody>\n",
              "</table>\n",
              "</div>"
            ],
            "text/plain": [
              "   v1                                                 v2  ... Unnamed: 3 Unnamed: 4\n",
              "0   0  Go until jurong point, crazy.. Available only ...  ...        NaN        NaN\n",
              "1   0                      Ok lar... Joking wif u oni...  ...        NaN        NaN\n",
              "2   1  Free entry in 2 a wkly comp to win FA Cup fina...  ...        NaN        NaN\n",
              "3   0  U dun say so early hor... U c already then say...  ...        NaN        NaN\n",
              "4   0  Nah I don't think he goes to usf, he lives aro...  ...        NaN        NaN\n",
              "\n",
              "[5 rows x 5 columns]"
            ]
          },
          "metadata": {
            "tags": []
          },
          "execution_count": 33
        }
      ]
    },
    {
      "cell_type": "code",
      "metadata": {
        "id": "cTCwv-MjJHMk",
        "colab_type": "code",
        "colab": {}
      },
      "source": [
        "x_train,x_test,y_train,y_test=model_selection.train_test_split(x,df['v1'],test_size=0.33,random_state=42)"
      ],
      "execution_count": 36,
      "outputs": []
    },
    {
      "cell_type": "code",
      "metadata": {
        "id": "hRA7ROJ-KPJN",
        "colab_type": "code",
        "colab": {
          "base_uri": "https://localhost:8080/",
          "height": 34
        },
        "outputId": "da45623a-af73-40b8-d9da-dc72bfcd4cca"
      },
      "source": [
        "#we shall use our naive_bayes classifier and try to compare with the kaggle tuto LSTM result\n",
        "bayes=naive_bayes.MultinomialNB(alpha=0.66)\n",
        "bayes.fit(x_train,y_train)"
      ],
      "execution_count": 37,
      "outputs": [
        {
          "output_type": "execute_result",
          "data": {
            "text/plain": [
              "MultinomialNB(alpha=0.66, class_prior=None, fit_prior=True)"
            ]
          },
          "metadata": {
            "tags": []
          },
          "execution_count": 37
        }
      ]
    },
    {
      "cell_type": "code",
      "metadata": {
        "id": "cPLpNSERMLIS",
        "colab_type": "code",
        "colab": {}
      },
      "source": [
        "score_train=bayes.score(x_train,y_train)\n",
        "score_test=bayes.score(x_test,y_test)"
      ],
      "execution_count": 38,
      "outputs": []
    },
    {
      "cell_type": "code",
      "metadata": {
        "id": "JGwcTK2dMeH3",
        "colab_type": "code",
        "colab": {
          "base_uri": "https://localhost:8080/",
          "height": 51
        },
        "outputId": "2505963f-1b1b-4b30-c29b-d2b59ee19a03"
      },
      "source": [
        "#lets check out the test score \n",
        "print(\"the train accuracy is: {}\".format(score_train))\n",
        "print(\"the test accuracy is:  {}\".format(score_test))"
      ],
      "execution_count": 42,
      "outputs": [
        {
          "output_type": "stream",
          "text": [
            "the train accuracy is: 0.989820519689258\n",
            "the test accuracy is:  0.9760739532354541\n"
          ],
          "name": "stdout"
        }
      ]
    }
  ]
}